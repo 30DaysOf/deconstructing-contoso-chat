{
 "cells": [
  {
   "cell_type": "markdown",
   "metadata": {},
   "source": [
    "# Evaluating Generative AI Apps on Azure AI\n",
    "1. [Using Python Code](https://learn.microsoft.com/en-us/azure/ai-studio/how-to/evaluate-generative-ai-app?pivots=programming-language-python)\n",
    "1. [Samples for AI-Assisted Evaluations](https://aka.ms/safetyevalsamples)\n",
    "1. [Harm Mitigation Strategies](https://learn.microsoft.com/en-us/azure/ai-studio/concepts/evaluation-improvement-strategies)\n",
    "1. [Content Filtering](https://learn.microsoft.com/en-us/azure/ai-studio/concepts/content-filtering)\n",
    "1. [View Eval Flow results](https://learn.microsoft.com/en-us/azure/ai-studio/how-to/evaluate-flow-results)"
   ]
  },
  {
   "cell_type": "markdown",
   "metadata": {},
   "source": []
  }
 ],
 "metadata": {
  "language_info": {
   "name": "python"
  }
 },
 "nbformat": 4,
 "nbformat_minor": 2
}
